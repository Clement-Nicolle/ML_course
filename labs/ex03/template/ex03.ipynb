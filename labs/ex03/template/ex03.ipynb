{
 "cells": [
  {
   "cell_type": "code",
   "execution_count": 4,
   "metadata": {},
   "outputs": [],
   "source": [
    "# Useful starting lines\n",
    "%matplotlib inline\n",
    "import numpy as np\n",
    "import matplotlib.pyplot as plt\n",
    "%load_ext autoreload\n",
    "%autoreload 2"
   ]
  },
  {
   "cell_type": "markdown",
   "metadata": {},
   "source": [
    "# 1 Least squares and linear basis functions models\n",
    "## 1.1 Least squares"
   ]
  },
  {
   "cell_type": "code",
   "execution_count": 5,
   "metadata": {},
   "outputs": [],
   "source": [
    "def least_squares(y, tx):\n",
    "    \"\"\"calculate the least squares solution.\"\"\"\n",
    "    # ***************************************************\n",
    "    # INSERT YOUR CODE HERE\n",
    "    # least squares: TODO\n",
    "    # returns mse, and optimal weights\n",
    "    optimal = np.linalg.solve(tx.transpose()@tx, tx.transpose()@y)\n",
    "    e = y - tx @ optimal\n",
    "    mse = 1/(2*len(y)) * e.transpose() @ e\n",
    "    return mse, optimal\n",
    "    # ***************************************************\n",
    "    raise NotImplementedError "
   ]
  },
  {
   "cell_type": "markdown",
   "metadata": {},
   "source": [
    "### Load the data\n",
    "Here we will reuse the dataset `height_weight_genders.csv` from previous exercise section to check the correctness of your implementation. Please compare it with your previous result."
   ]
  },
  {
   "cell_type": "code",
   "execution_count": 6,
   "metadata": {},
   "outputs": [],
   "source": [
    "from helpers import *\n",
    "def test_your_least_squares():\n",
    "    height, weight, gender = load_data_from_ex02(sub_sample=False, add_outlier=False)\n",
    "    x, mean_x, std_x = standardize(height)\n",
    "    y, tx = build_model_data(x, weight)\n",
    "    # ***************************************************\n",
    "    # INSERT YOUR CODE HERE\n",
    "    # least square or grid search: TODO\n",
    "    # this code should compare the optimal weights obtained \n",
    "    # by least squares vs. grid search\n",
    "    return least_squares(y, tx)\n",
    "    # ***************************************************\n",
    "    raise NotImplementedError"
   ]
  },
  {
   "cell_type": "markdown",
   "metadata": {},
   "source": [
    "Test it here"
   ]
  },
  {
   "cell_type": "code",
   "execution_count": 7,
   "metadata": {},
   "outputs": [
    {
     "data": {
      "text/plain": [
       "(15.385887868829398, array([73.293922  , 13.47971243]))"
      ]
     },
     "execution_count": 7,
     "metadata": {},
     "output_type": "execute_result"
    }
   ],
   "source": [
    "test_your_least_squares()"
   ]
  },
  {
   "cell_type": "markdown",
   "metadata": {},
   "source": [
    "## 1.2 Least squares with a linear basis function model\n",
    "Start from this section, we will use the dataset `dataEx3.csv`.\n",
    "\n",
    "### Implement polynomial basis functions"
   ]
  },
  {
   "cell_type": "code",
   "execution_count": 8,
   "metadata": {
    "scrolled": true
   },
   "outputs": [
    {
     "name": "stdout",
     "output_type": "stream",
     "text": [
      "shape of x (50,)\n",
      "shape of y (50,)\n",
      "[0.35237491 4.8951233  1.86662437 3.50706129 3.38087384 0.73093728\n",
      " 3.88562366 5.65224803 6.28318531 2.37137419 0.60474982 3.63324875\n",
      " 0.85712473 2.49756165 1.61424946 5.39987312 6.15699785 6.0308104\n",
      " 0.47856237 2.87612401 4.51656093 0.98331219 1.10949964 0.1\n",
      " 2.11899928 1.36187455 4.01181111 5.77843549 4.26418602 1.2356871\n",
      " 2.24518674 1.99281183 1.48806201 4.64274839 4.39037348 3.00231147\n",
      " 0.22618746 5.27368567 5.02131076 5.52606058 2.6237491  4.76893584\n",
      " 3.12849893 1.74043692 3.7594362  3.25468638 5.90462294 4.13799857\n",
      " 2.74993656 5.14749821]\n"
     ]
    }
   ],
   "source": [
    "# load dataset\n",
    "x, y = load_data()\n",
    "print(\"shape of x {}\".format(x.shape))\n",
    "print(\"shape of y {}\".format(y.shape))\n",
    "print(x)"
   ]
  },
  {
   "cell_type": "code",
   "execution_count": 9,
   "metadata": {},
   "outputs": [
    {
     "name": "stdout",
     "output_type": "stream",
     "text": [
      "[[ 1.          0.35237491  0.12416808]\n",
      " [ 1.          4.8951233  23.96223211]\n",
      " [ 1.          1.86662437  3.48428655]\n",
      " [ 1.          3.50706129 12.29947891]\n",
      " [ 1.          3.38087384 11.43030789]\n",
      " [ 1.          0.73093728  0.5342693 ]\n",
      " [ 1.          3.88562366 15.0980712 ]]\n"
     ]
    }
   ],
   "source": [
    "def build_poly(x, degree):\n",
    "    \"\"\"polynomial basis functions for input data x, for j=0 up to j=degree.\"\"\"\n",
    "    # ***************************************************\n",
    "    # INSERT YOUR CODE HERE\n",
    "    # polynomial basis function: TODO\n",
    "    # this function should return the matrix formed\n",
    "    # by applying the polynomial basis to the input data\n",
    "    xdeg = np.ones(len(x))\n",
    "    for k in range(1,degree+1):\n",
    "        xdeg = np.c_[xdeg, x**k]\n",
    "    return xdeg    \n",
    "    # ***************************************************\n",
    "    raise NotImplementedError   \n",
    "print(build_poly(x[:7],2))    "
   ]
  },
  {
   "cell_type": "markdown",
   "metadata": {},
   "source": [
    "Let us play with polynomial regression. Note that we will use your implemented function `compute_mse`. Please copy and paste your implementation from exercise02."
   ]
  },
  {
   "cell_type": "code",
   "execution_count": 10,
   "metadata": {},
   "outputs": [],
   "source": [
    "from plots import *\n",
    "\n",
    "def compute_loss(y, tx, w):\n",
    "    e=y-tx@w\n",
    "    return 1/(2*len(y)) * np.transpose(e)@e\n",
    "\n",
    "def polynomial_regression():\n",
    "    \"\"\"Constructing the polynomial basis function expansion of the data,\n",
    "       and then running least squares regression.\"\"\"\n",
    "    # define parameters\n",
    "    degrees = [1, 3, 7, 12]\n",
    "    \n",
    "    # define the structure of the figure\n",
    "    num_row = 2\n",
    "    num_col = 2\n",
    "    f, axs = plt.subplots(num_row, num_col)\n",
    "\n",
    "    for ind, degree in enumerate(degrees):\n",
    "        # ***************************************************\n",
    "        # INSERT YOUR CODE HERE\n",
    "        # form the data to do polynomial regression.: TODO\n",
    "        x, y = load_data()\n",
    "        tx = build_poly(x, degree)\n",
    "        # ***************************************************\n",
    "        #raise NotImplementedError\n",
    "        # ***************************************************\n",
    "        # INSERT YOUR CODE HERE\n",
    "        # least square and calculate RMSE: TODO\n",
    "        mse, weights = least_squares(y, tx)\n",
    "        rmse = np.sqrt(2*mse)\n",
    "        # ***************************************************\n",
    "        #raise NotImplementedError\n",
    "\n",
    "        print(\"Processing {i}th experiment, degree={d}, rmse={loss}\".format(\n",
    "              i=ind + 1, d=degree, loss=rmse))\n",
    "        # plot fit\n",
    "        plot_fitted_curve(\n",
    "            y, x, weights, degree, axs[ind // num_col][ind % num_col])\n",
    "    plt.tight_layout()\n",
    "    plt.savefig(\"visualize_polynomial_regression\")\n",
    "    plt.show()"
   ]
  },
  {
   "cell_type": "markdown",
   "metadata": {},
   "source": [
    "Run polynomial regression"
   ]
  },
  {
   "cell_type": "code",
   "execution_count": 11,
   "metadata": {},
   "outputs": [
    {
     "name": "stdout",
     "output_type": "stream",
     "text": [
      "Processing 1th experiment, degree=1, rmse=0.47187607963421874\n",
      "Processing 2th experiment, degree=3, rmse=0.2585827766773748\n",
      "Processing 3th experiment, degree=7, rmse=0.24965870360907552\n",
      "Processing 4th experiment, degree=12, rmse=0.24328247481248672\n"
     ]
    },
    {
     "data": {
      "image/png": "[encoded data removed]",
      "text/plain": [
       "<Figure size 432x288 with 4 Axes>"
      ]
     },
     "metadata": {
      "needs_background": "light"
     },
     "output_type": "display_data"
    }
   ],
   "source": [
    "polynomial_regression()"
   ]
  },
  {
   "cell_type": "markdown",
   "metadata": {},
   "source": [
    "# 2 Evaluating model predication performance\n",
    "\n",
    "\n",
    "Let us show the train and test splits for various polynomial degrees. First of all, please fill in the function `split_data()`"
   ]
  },
  {
   "cell_type": "code",
   "execution_count": 21,
   "metadata": {},
   "outputs": [],
   "source": [
    "def split_data(x, y, ratio, seed=1):\n",
    "    \"\"\"\n",
    "    split the dataset based on the split ratio. If ratio is 0.8 \n",
    "    you will have 80% of your data set dedicated to training \n",
    "    and the rest dedicated to testing\n",
    "    \"\"\"\n",
    "    # set seed\n",
    "    np.random.seed(seed)\n",
    "    # ***************************************************\n",
    "    # INSERT YOUR CODE HERE\n",
    "    # split the data based on the given ratio: TODO\n",
    "    #np.random.shuffle(x)\n",
    "    #np.random.seed(seed)\n",
    "    #np.random.shuffle(y)\n",
    "    n = ratio * len(y)\n",
    "    n = int(n)\n",
    "    return x[:n], y[:n], x[n:], y[n:]\n",
    "    # ***************************************************\n",
    "    raise NotImplementedError"
   ]
  },
  {
   "cell_type": "markdown",
   "metadata": {},
   "source": [
    "Then, test your `split_data` function below."
   ]
  },
  {
   "cell_type": "code",
   "execution_count": 22,
   "metadata": {},
   "outputs": [],
   "source": [
    "def train_test_split_demo(x, y, degree, ratio, seed):\n",
    "    \"\"\"polynomial regression with different split ratios and different degrees.\"\"\"\n",
    "    # ***************************************************\n",
    "    # INSERT YOUR CODE HERE\n",
    "    # split the data, and return train and test data: TODO\n",
    "    x_train, y_train, x_test, y_test = split_data(x, y, ratio, seed)\n",
    "    # ***************************************************\n",
    "    #raise NotImplementedError\n",
    "    # ***************************************************\n",
    "    # INSERT YOUR CODE HERE\n",
    "    # form train and test data with polynomial basis function: TODO\n",
    "    x_train = build_poly(x_train, degree)\n",
    "    x_test = build_poly(x_test, degree)\n",
    "    # ***************************************************\n",
    "    #raise NotImplementedError\n",
    "    # ***************************************************\n",
    "    # INSERT YOUR CODE HERE\n",
    "    # calculate weight through least square: TODO\n",
    "    mse_tr, weights = least_squares(y_train, x_train)\n",
    "    # ***************************************************\n",
    "    #raise NotImplementedError\n",
    "    # ***************************************************\n",
    "    # INSERT YOUR CODE HERE\n",
    "    # calculate RMSE for train and test data,\n",
    "    # and store them in rmse_tr and rmse_te respectively: TODO\n",
    "    rmse_tr = np.sqrt(2*mse_tr)\n",
    "    e_test = y_test - x_test @ weights\n",
    "    mse_te = 1/(2*len(y_test)) * e_test.transpose() @ e_test\n",
    "    rmse_te = np.sqrt(2*mse_te)\n",
    "    # ***************************************************\n",
    "    #raise NotImplementedError\n",
    "    print(\"proportion={p}, degree={d}, Training RMSE={tr:.3f}, Testing RMSE={te:.3f}\".format(\n",
    "          p=ratio, d=degree, tr=rmse_tr, te=rmse_te))\n"
   ]
  },
  {
   "cell_type": "code",
   "execution_count": 23,
   "metadata": {},
   "outputs": [
    {
     "name": "stdout",
     "output_type": "stream",
     "text": [
      "proportion=0.9, degree=1, Training RMSE=0.732, Testing RMSE=0.441\n",
      "proportion=0.9, degree=3, Training RMSE=0.692, Testing RMSE=0.791\n",
      "proportion=0.9, degree=7, Training RMSE=0.641, Testing RMSE=0.739\n",
      "proportion=0.9, degree=12, Training RMSE=0.566, Testing RMSE=0.935\n",
      "\n",
      "\n",
      "proportion=0.5, degree=1, Training RMSE=0.690, Testing RMSE=0.755\n",
      "proportion=0.5, degree=3, Training RMSE=0.630, Testing RMSE=0.877\n",
      "proportion=0.5, degree=7, Training RMSE=0.630, Testing RMSE=0.707\n",
      "proportion=0.5, degree=12, Training RMSE=0.652, Testing RMSE=0.838\n",
      "\n",
      "\n",
      "proportion=0.1, degree=1, Training RMSE=0.284, Testing RMSE=0.957\n",
      "proportion=0.1, degree=3, Training RMSE=0.661, Testing RMSE=0.877\n",
      "proportion=0.1, degree=7, Training RMSE=0.000, Testing RMSE=12.944\n",
      "proportion=0.1, degree=12, Training RMSE=0.000, Testing RMSE=1.075\n",
      "\n",
      "\n"
     ]
    }
   ],
   "source": [
    "seed = 6\n",
    "degrees = [1, 3, 7, 12]\n",
    "split_ratios = [0.9, 0.5, 0.1]\n",
    "\n",
    "for split_ratio in split_ratios:\n",
    "    for degree in degrees:\n",
    "        train_test_split_demo(x, y, degree, split_ratio, seed)\n",
    "    print(\"\\n\")    "
   ]
  },
  {
   "cell_type": "markdown",
   "metadata": {},
   "source": [
    "# 3 Ridge Regression\n",
    "Please fill in the function below."
   ]
  },
  {
   "cell_type": "code",
   "execution_count": 24,
   "metadata": {},
   "outputs": [],
   "source": [
    "def ridge_regression(y, tx, lambda_):\n",
    "    \"\"\"implement ridge regression.\"\"\"\n",
    "    # ***************************************************\n",
    "    # INSERT YOUR CODE HERE\n",
    "    # ridge regression: TODO\n",
    "    a,b=tx.shape\n",
    "    eye = np.eye(b)\n",
    "    w = np.linalg.solve(2*a*lambda_*eye + tx.transpose()@tx, tx.transpose()@y)\n",
    "    e = y - tx @ w\n",
    "    mse = 1/(2*len(y)) * e.transpose() @ e\n",
    "    return mse, w\n",
    "    # ***************************************************\n",
    "    #raise NotImplementedError  "
   ]
  },
  {
   "cell_type": "code",
   "execution_count": 25,
   "metadata": {},
   "outputs": [],
   "source": [
    "def ridge_regression_demo(x, y, degree, ratio, seed):\n",
    "    \"\"\"ridge regression demo.\"\"\"\n",
    "    # define parameter\n",
    "    lambdas = np.logspace(-5, 0, 15)\n",
    "    # ***************************************************\n",
    "    # INSERT YOUR CODE HERE\n",
    "    # split the data, and return train and test data: TODO\n",
    "    x_train, y_train, x_test, y_test = split_data(x, y, ratio, seed)\n",
    "    # ***************************************************\n",
    "    #raise NotImplementedError\n",
    "    # ***************************************************\n",
    "    # INSERT YOUR CODE HERE\n",
    "    # form train and test data with polynomial basis function: TODO\n",
    "    x_train = build_poly(x_train, degree)\n",
    "    x_test = build_poly(x_test, degree)\n",
    "    # ***************************************************\n",
    "    #raise NotImplementedError\n",
    "\n",
    "    rmse_tr = []\n",
    "    rmse_te = []\n",
    "    for ind, lambda_ in enumerate(lambdas):\n",
    "        # ***************************************************\n",
    "        # INSERT YOUR CODE HERE\n",
    "        # ridge regression with a given lambda\n",
    "        mse_train, weights = ridge_regression(y_train, x_train, lambda_)\n",
    "        rmse_tr.append(np.sqrt(2*mse_train))\n",
    "        \n",
    "        e_test = y_test - x_test @ weights\n",
    "        mse_test = 1/(2*len(y_test)) * e_test.transpose() @ e_test \n",
    "        rmse_te.append(np.sqrt(2*mse_test))\n",
    "        # ***************************************************\n",
    "        print(\"proportion={p}, degree={d}, lambda={l:.3f}, Training RMSE={tr:.3f}, Testing RMSE={te:.3f}\".format(\n",
    "               p=ratio, d=degree, l=lambda_, tr=rmse_tr[ind], te=rmse_te[ind]))\n",
    "        \n",
    "    # Plot the obtained results\n",
    "    plot_train_test(rmse_tr, rmse_te, lambdas, degree)\n",
    "\n",
    "    #raise NotImplementedError\n"
   ]
  },
  {
   "cell_type": "code",
   "execution_count": 26,
   "metadata": {},
   "outputs": [
    {
     "name": "stdout",
     "output_type": "stream",
     "text": [
      "proportion=0.5, degree=7, lambda=0.000, Training RMSE=0.547, Testing RMSE=0.792\n",
      "proportion=0.5, degree=7, lambda=0.000, Training RMSE=0.552, Testing RMSE=0.811\n",
      "proportion=0.5, degree=7, lambda=0.000, Training RMSE=0.558, Testing RMSE=0.832\n",
      "proportion=0.5, degree=7, lambda=0.000, Training RMSE=0.564, Testing RMSE=0.848\n",
      "proportion=0.5, degree=7, lambda=0.000, Training RMSE=0.567, Testing RMSE=0.855\n",
      "proportion=0.5, degree=7, lambda=0.001, Training RMSE=0.570, Testing RMSE=0.854\n",
      "proportion=0.5, degree=7, lambda=0.001, Training RMSE=0.574, Testing RMSE=0.849\n",
      "proportion=0.5, degree=7, lambda=0.003, Training RMSE=0.580, Testing RMSE=0.843\n",
      "proportion=0.5, degree=7, lambda=0.007, Training RMSE=0.586, Testing RMSE=0.837\n",
      "proportion=0.5, degree=7, lambda=0.016, Training RMSE=0.590, Testing RMSE=0.831\n",
      "proportion=0.5, degree=7, lambda=0.037, Training RMSE=0.593, Testing RMSE=0.822\n",
      "proportion=0.5, degree=7, lambda=0.085, Training RMSE=0.598, Testing RMSE=0.808\n",
      "proportion=0.5, degree=7, lambda=0.193, Training RMSE=0.607, Testing RMSE=0.790\n",
      "proportion=0.5, degree=7, lambda=0.439, Training RMSE=0.618, Testing RMSE=0.774\n",
      "proportion=0.5, degree=7, lambda=1.000, Training RMSE=0.629, Testing RMSE=0.765\n"
     ]
    },
    {
     "data": {
      "image/png": "[encoded data removed]",
      "text/plain": [
       "<Figure size 432x288 with 1 Axes>"
      ]
     },
     "metadata": {
      "needs_background": "light"
     },
     "output_type": "display_data"
    }
   ],
   "source": [
    "seed = 56\n",
    "degree = 7\n",
    "split_ratio = 0.5\n",
    "ridge_regression_demo(x, y, degree, split_ratio, seed)"
   ]
  },
  {
   "cell_type": "code",
   "execution_count": null,
   "metadata": {},
   "outputs": [],
   "source": []
  },
  {
   "cell_type": "code",
   "execution_count": null,
   "metadata": {},
   "outputs": [],
   "source": []
  }
 ],
 "metadata": {
  "anaconda-cloud": {},
  "kernelspec": {
   "display_name": "Python 3",
   "language": "python",
   "name": "python3"
  },
  "language_info": {
   "codemirror_mode": {
    "name": "ipython",
    "version": 3
   },
   "file_extension": ".py",
   "mimetype": "text/x-python",
   "name": "python",
   "nbconvert_exporter": "python",
   "pygments_lexer": "ipython3",
   "version": "3.7.3"
  }
 },
 "nbformat": 4,
 "nbformat_minor": 1
}
